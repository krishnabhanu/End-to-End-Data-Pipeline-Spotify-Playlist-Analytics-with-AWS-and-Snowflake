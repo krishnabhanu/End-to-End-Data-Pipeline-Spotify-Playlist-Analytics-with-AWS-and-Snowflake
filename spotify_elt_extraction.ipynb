{
  "nbformat": 4,
  "nbformat_minor": 0,
  "metadata": {
    "colab": {
      "provenance": []
    },
    "kernelspec": {
      "name": "python3",
      "display_name": "Python 3"
    },
    "language_info": {
      "name": "python"
    }
  },
  "cells": [
    {
      "cell_type": "code",
      "execution_count": null,
      "metadata": {
        "id": "3KvVWIm8iWw7"
      },
      "outputs": [],
      "source": [
        "import json\n",
        "import os\n",
        "import spotipy\n",
        "from spotipy.oauth2 import SpotifyClientCredentials\n",
        "import boto3\n",
        "from datetime import datetime\n",
        "\n",
        "def lambda_handler(event, context):\n",
        "    print(\"Code started\")\n",
        "    cilent_id = os.environ.get('client_id')\n",
        "    client_secret = os.environ.get('client_secret')\n",
        "\n",
        "    client_credentials_manager = SpotifyClientCredentials(client_id=cilent_id, client_secret=client_secret)\n",
        "    sp = spotipy.Spotify(client_credentials_manager = client_credentials_manager)\n",
        "    playlists = sp.user_playlists('spotify')\n",
        "\n",
        "    playlist_link = \"https://open.spotify.com/playlist/37i9dQZEVXbNG2KDcFcKOF?si=1333723a6eff4b7f\"\n",
        "    playlist_URI = playlist_link.split(\"/\")[-1].split(\"?\")[0]\n",
        "\n",
        "    spotify_data = sp.playlist_tracks(playlist_URI)\n",
        "\n",
        "    cilent = boto3.client('s3')\n",
        "\n",
        "    filename = \"spotify_raw_\" + str(datetime.now()) + \".json\"\n",
        "\n",
        "    cilent.put_object(\n",
        "        Bucket=\"spotify-etl-project-bhanukrishna\",\n",
        "        Key=\"raw_data/to_processed/\" + filename,\n",
        "        Body=json.dumps(spotify_data)\n",
        "        )\n",
        ""
      ]
    }
  ]
}